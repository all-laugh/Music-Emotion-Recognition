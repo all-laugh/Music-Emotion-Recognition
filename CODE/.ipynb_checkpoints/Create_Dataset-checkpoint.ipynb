{
 "cells": [
  {
   "cell_type": "code",
   "execution_count": 1,
   "metadata": {
    "ExecuteTime": {
     "end_time": "2020-12-05T18:51:54.041081Z",
     "start_time": "2020-12-05T18:51:52.842638Z"
    }
   },
   "outputs": [
    {
     "data": {
      "text/html": [
       "<div>\n",
       "<style scoped>\n",
       "    .dataframe tbody tr th:only-of-type {\n",
       "        vertical-align: middle;\n",
       "    }\n",
       "\n",
       "    .dataframe tbody tr th {\n",
       "        vertical-align: top;\n",
       "    }\n",
       "\n",
       "    .dataframe thead th {\n",
       "        text-align: right;\n",
       "    }\n",
       "</style>\n",
       "<table border=\"1\" class=\"dataframe\">\n",
       "  <thead>\n",
       "    <tr style=\"text-align: right;\">\n",
       "      <th></th>\n",
       "      <th>dzr_sng_id</th>\n",
       "      <th>MSD_sng_id</th>\n",
       "      <th>MSD_track_id</th>\n",
       "      <th>valence</th>\n",
       "      <th>arousal</th>\n",
       "      <th>artist_name</th>\n",
       "      <th>track_name</th>\n",
       "    </tr>\n",
       "  </thead>\n",
       "  <tbody>\n",
       "    <tr>\n",
       "      <th>0</th>\n",
       "      <td>532171</td>\n",
       "      <td>SOSDIDR12A8C130E5D</td>\n",
       "      <td>TRGVJCD128F42623E3</td>\n",
       "      <td>-0.420759</td>\n",
       "      <td>0.754644</td>\n",
       "      <td>Fiona Apple</td>\n",
       "      <td>Fast As You Can</td>\n",
       "    </tr>\n",
       "    <tr>\n",
       "      <th>1</th>\n",
       "      <td>532216</td>\n",
       "      <td>SOPMTTO12AB0183DB9</td>\n",
       "      <td>TRNXMAY128F931FAC6</td>\n",
       "      <td>-0.465330</td>\n",
       "      <td>0.011006</td>\n",
       "      <td>Fiona Apple</td>\n",
       "      <td>I Know</td>\n",
       "    </tr>\n",
       "    <tr>\n",
       "      <th>2</th>\n",
       "      <td>532284</td>\n",
       "      <td>SOQCEJU12A8C13220B</td>\n",
       "      <td>TRYMZQJ128F426A0E7</td>\n",
       "      <td>0.373325</td>\n",
       "      <td>-0.923151</td>\n",
       "      <td>Xzibit</td>\n",
       "      <td>Get Your Walk On</td>\n",
       "    </tr>\n",
       "    <tr>\n",
       "      <th>3</th>\n",
       "      <td>532989</td>\n",
       "      <td>SOLEFHR12D021B2A57</td>\n",
       "      <td>TRZHHIL128F4264EE0</td>\n",
       "      <td>0.894528</td>\n",
       "      <td>-0.390774</td>\n",
       "      <td>Fiona Apple</td>\n",
       "      <td>Extraordinary Machine</td>\n",
       "    </tr>\n",
       "    <tr>\n",
       "      <th>4</th>\n",
       "      <td>533164</td>\n",
       "      <td>SOFDPOX12A8C13780D</td>\n",
       "      <td>TRJEBIT128F933A400</td>\n",
       "      <td>-1.636900</td>\n",
       "      <td>-0.459145</td>\n",
       "      <td>Patty Loveless</td>\n",
       "      <td>How Can I Help You Say Goodbye</td>\n",
       "    </tr>\n",
       "  </tbody>\n",
       "</table>\n",
       "</div>"
      ],
      "text/plain": [
       "   dzr_sng_id          MSD_sng_id        MSD_track_id   valence   arousal  \\\n",
       "0      532171  SOSDIDR12A8C130E5D  TRGVJCD128F42623E3 -0.420759  0.754644   \n",
       "1      532216  SOPMTTO12AB0183DB9  TRNXMAY128F931FAC6 -0.465330  0.011006   \n",
       "2      532284  SOQCEJU12A8C13220B  TRYMZQJ128F426A0E7  0.373325 -0.923151   \n",
       "3      532989  SOLEFHR12D021B2A57  TRZHHIL128F4264EE0  0.894528 -0.390774   \n",
       "4      533164  SOFDPOX12A8C13780D  TRJEBIT128F933A400 -1.636900 -0.459145   \n",
       "\n",
       "      artist_name                      track_name  \n",
       "0     Fiona Apple                 Fast As You Can  \n",
       "1     Fiona Apple                          I Know  \n",
       "2          Xzibit                Get Your Walk On  \n",
       "3     Fiona Apple           Extraordinary Machine  \n",
       "4  Patty Loveless  How Can I Help You Say Goodbye  "
      ]
     },
     "execution_count": 1,
     "metadata": {},
     "output_type": "execute_result"
    }
   ],
   "source": [
    "import pandas as pd\n",
    "import numpy as np\n",
    "import sox\n",
    "import librosa\n",
    "import os\n",
    "\n",
    "# Getting labels \n",
    "test_labels = pd.read_csv(\"deezer_mood_detection_dataset-master/test.csv\")\n",
    "train_labels = pd.read_csv(\"deezer_mood_detection_dataset-master/train.csv\")\n",
    "validate_labels = pd.read_csv(\"deezer_mood_detection_dataset-master/validation.csv\")\n",
    "\n",
    "labels = [test_labels, train_labels, validate_labels]\n",
    "labels_df = pd.concat(labels)\n",
    "\n",
    "labels_df.head()"
   ]
  },
  {
   "cell_type": "code",
   "execution_count": 60,
   "metadata": {
    "ExecuteTime": {
     "end_time": "2020-12-05T21:44:32.386066Z",
     "start_time": "2020-12-05T21:43:59.704380Z"
    }
   },
   "outputs": [
    {
     "data": {
      "text/html": [
       "<div>\n",
       "<style scoped>\n",
       "    .dataframe tbody tr th:only-of-type {\n",
       "        vertical-align: middle;\n",
       "    }\n",
       "\n",
       "    .dataframe tbody tr th {\n",
       "        vertical-align: top;\n",
       "    }\n",
       "\n",
       "    .dataframe thead th {\n",
       "        text-align: right;\n",
       "    }\n",
       "</style>\n",
       "<table border=\"1\" class=\"dataframe\">\n",
       "  <thead>\n",
       "    <tr style=\"text-align: right;\">\n",
       "      <th></th>\n",
       "      <th>dzr_sng_id</th>\n",
       "      <th>MSD_sng_id</th>\n",
       "      <th>MSD_track_id</th>\n",
       "      <th>valence</th>\n",
       "      <th>arousal</th>\n",
       "      <th>artist_name</th>\n",
       "      <th>track_name</th>\n",
       "    </tr>\n",
       "  </thead>\n",
       "  <tbody>\n",
       "    <tr>\n",
       "      <th>0</th>\n",
       "      <td>2509072</td>\n",
       "      <td>SOONWRV12A8C138371</td>\n",
       "      <td>TRAUFCU128F42882B7</td>\n",
       "      <td>1.110105</td>\n",
       "      <td>-0.314720</td>\n",
       "      <td>Jack Johnson and Friends / Matt Costa</td>\n",
       "      <td>Fall Line</td>\n",
       "    </tr>\n",
       "    <tr>\n",
       "      <th>1</th>\n",
       "      <td>61064523</td>\n",
       "      <td>SOVLGTO12A8C1348EE</td>\n",
       "      <td>TRGSBHX128F427327F</td>\n",
       "      <td>-1.700572</td>\n",
       "      <td>1.842444</td>\n",
       "      <td>System of a Down</td>\n",
       "      <td>Prison Song</td>\n",
       "    </tr>\n",
       "    <tr>\n",
       "      <th>2</th>\n",
       "      <td>2181967</td>\n",
       "      <td>SOMEQOG12AB0183DEF</td>\n",
       "      <td>TRLLOEU12903CA775E</td>\n",
       "      <td>1.011867</td>\n",
       "      <td>0.616364</td>\n",
       "      <td>Bunny Wailer</td>\n",
       "      <td>This Train</td>\n",
       "    </tr>\n",
       "    <tr>\n",
       "      <th>3</th>\n",
       "      <td>784836</td>\n",
       "      <td>SOSTWHQ12A6D4FA381</td>\n",
       "      <td>TROPKDQ128F148B89A</td>\n",
       "      <td>0.373325</td>\n",
       "      <td>-0.923151</td>\n",
       "      <td>All Saints</td>\n",
       "      <td>Pure Shores (Cosmos Remix)</td>\n",
       "    </tr>\n",
       "    <tr>\n",
       "      <th>4</th>\n",
       "      <td>77786769</td>\n",
       "      <td>SOGZJZU12AF72A0D45</td>\n",
       "      <td>TROASXG128F932E1CE</td>\n",
       "      <td>0.678952</td>\n",
       "      <td>-2.333604</td>\n",
       "      <td>Cassandra Wilson</td>\n",
       "      <td>I Can't Stand the Rain</td>\n",
       "    </tr>\n",
       "  </tbody>\n",
       "</table>\n",
       "</div>"
      ],
      "text/plain": [
       "   dzr_sng_id          MSD_sng_id        MSD_track_id   valence   arousal  \\\n",
       "0     2509072  SOONWRV12A8C138371  TRAUFCU128F42882B7  1.110105 -0.314720   \n",
       "1    61064523  SOVLGTO12A8C1348EE  TRGSBHX128F427327F -1.700572  1.842444   \n",
       "2     2181967  SOMEQOG12AB0183DEF  TRLLOEU12903CA775E  1.011867  0.616364   \n",
       "3      784836  SOSTWHQ12A6D4FA381  TROPKDQ128F148B89A  0.373325 -0.923151   \n",
       "4    77786769  SOGZJZU12AF72A0D45  TROASXG128F932E1CE  0.678952 -2.333604   \n",
       "\n",
       "                             artist_name                  track_name  \n",
       "0  Jack Johnson and Friends / Matt Costa                   Fall Line  \n",
       "1                       System of a Down                 Prison Song  \n",
       "2                           Bunny Wailer                  This Train  \n",
       "3                             All Saints  Pure Shores (Cosmos Remix)  \n",
       "4                       Cassandra Wilson      I Can't Stand the Rain  "
      ]
     },
     "execution_count": 60,
     "metadata": {},
     "output_type": "execute_result"
    }
   ],
   "source": [
    "# local_dataset = labels_df.loc[labels_df['dzr_sng_id'] == 532171]\n",
    "local_dataset = pd.DataFrame()\n",
    "labeled_ids = labels_df['dzr_sng_id'].tolist()\n",
    "\n",
    "for filename in os.listdir(\"deezer_mp3\"):\n",
    "    if filename.endswith(\".mp3\"):\n",
    "        dzr_id = int( filename[:-4])\n",
    "        if dzr_id in labeled_ids:\n",
    "            local_dataset = pd.concat([local_dataset , \n",
    "                                       labels_df.loc[labels_df['dzr_sng_id'] == dzr_id]], \n",
    "                                       ignore_index=True)\n",
    "\n",
    "local_dataset.head()"
   ]
  },
  {
   "cell_type": "code",
   "execution_count": 63,
   "metadata": {
    "ExecuteTime": {
     "end_time": "2020-12-05T21:51:05.329919Z",
     "start_time": "2020-12-05T21:51:05.231918Z"
    }
   },
   "outputs": [],
   "source": [
    "local_dataset.to_csv('local_mp3_labels.csv')"
   ]
  },
  {
   "cell_type": "code",
   "execution_count": 9,
   "metadata": {
    "ExecuteTime": {
     "end_time": "2020-12-18T00:51:12.053830Z",
     "start_time": "2020-12-18T00:51:12.049863Z"
    }
   },
   "outputs": [],
   "source": [
    "def melspectrogram( data, n_fft = 1024, hop_length = 1024, win_length = 1024, sr = 44100, n_mels = 40 ):\n",
    "    S = librosa.stft(data, n_fft=n_fft, hop_length=hop_length, win_length=win_length)\n",
    "    mel_basis = librosa.filters.mel(sr, n_fft=n_fft, n_mels=n_mels)\n",
    "    mel_S = mel_basis @ np.abs(S)\n",
    "    mel_S = 10 * np.log10( mel_S + np.finfo(np.float32).eps) \n",
    "    \n",
    "    return mel_S"
   ]
  },
  {
   "cell_type": "code",
   "execution_count": 88,
   "metadata": {
    "ExecuteTime": {
     "end_time": "2020-12-05T22:54:37.240700Z",
     "start_time": "2020-12-05T22:15:40.543878Z"
    }
   },
   "outputs": [],
   "source": [
    "converter = sox.Transformer()\n",
    "\n",
    "labels = []\n",
    "melspectrograms = []\n",
    "\n",
    "for filename in os.listdir(\"deezer_mp3\"):\n",
    "    if filename.endswith(\".mp3\"):\n",
    "        dzr_id = int( filename[:-4])\n",
    "        valence = np.float64( local_dataset.loc[local_dataset['dzr_sng_id'] == dzr_id]['valence'] )\n",
    "        arousal = np.float64( local_dataset.loc[local_dataset['dzr_sng_id'] == dzr_id]['arousal'] )\n",
    "        audio_data = converter.build_array( input_filepath = 'deezer_mp3/' + filename )\n",
    "        audio_data = np.mean( audio_data, axis = 1 )\n",
    "        mel_spec = melspectrogram( data = audio_data )\n",
    "        if mel_spec.shape[1] < 1292:\n",
    "            to_pad = 1292 - mel_spec.shape[1]\n",
    "            mel_spec = np.append( mel_spec , np.zeros( (40, to_pad ) ), axis = 1 )\n",
    "        else:\n",
    "            mel_spec = mel_spec[: , :1292]\n",
    "            \n",
    "        labels.append( (valence, arousal) )\n",
    "        melspectrograms.append( mel_spec )\n"
   ]
  },
  {
   "cell_type": "code",
   "execution_count": 19,
   "metadata": {
    "ExecuteTime": {
     "end_time": "2020-12-06T01:03:52.553210Z",
     "start_time": "2020-12-06T01:03:52.524284Z"
    }
   },
   "outputs": [
    {
     "data": {
      "text/plain": [
       "14317"
      ]
     },
     "execution_count": 19,
     "metadata": {},
     "output_type": "execute_result"
    }
   ],
   "source": [
    "import os\n",
    "filenames = []\n",
    "\n",
    "for filename in os.listdir(\"deezer_mp3\"):\n",
    "    if filename.endswith(\".mp3\"):\n",
    "        filenames.append( filename )\n",
    "        \n",
    "import pickle\n",
    "with open('mp3_names.pkl', 'wb') as fp:\n",
    "    pickle.dump(filenames, fp)\n",
    "    \n",
    "with open ('mp3_names.pkl', 'rb') as fp:\n",
    "    itemlist = pickle.load(fp)\n",
    "    \n",
    "len( itemlist )"
   ]
  },
  {
   "cell_type": "code",
   "execution_count": 91,
   "metadata": {
    "ExecuteTime": {
     "end_time": "2020-12-06T00:10:36.556609Z",
     "start_time": "2020-12-06T00:10:36.552447Z"
    }
   },
   "outputs": [
    {
     "data": {
      "text/plain": [
       "14317"
      ]
     },
     "execution_count": 91,
     "metadata": {},
     "output_type": "execute_result"
    }
   ],
   "source": [
    "len(melspectrograms)"
   ]
  },
  {
   "cell_type": "code",
   "execution_count": 94,
   "metadata": {
    "ExecuteTime": {
     "end_time": "2020-12-06T00:18:09.215876Z",
     "start_time": "2020-12-06T00:18:09.205985Z"
    }
   },
   "outputs": [
    {
     "data": {
      "text/plain": [
       "dtype('float64')"
      ]
     },
     "execution_count": 94,
     "metadata": {},
     "output_type": "execute_result"
    }
   ],
   "source": [
    "np.array(labels).dtype"
   ]
  },
  {
   "cell_type": "code",
   "execution_count": 95,
   "metadata": {
    "ExecuteTime": {
     "end_time": "2020-12-06T00:18:36.763013Z",
     "start_time": "2020-12-06T00:18:29.187240Z"
    }
   },
   "outputs": [
    {
     "data": {
      "text/plain": [
       "dtype('float64')"
      ]
     },
     "execution_count": 95,
     "metadata": {},
     "output_type": "execute_result"
    }
   ],
   "source": [
    "np.array(melspectrograms).dtype"
   ]
  },
  {
   "cell_type": "code",
   "execution_count": 97,
   "metadata": {
    "ExecuteTime": {
     "end_time": "2020-12-06T00:28:19.264268Z",
     "start_time": "2020-12-06T00:28:13.681558Z"
    }
   },
   "outputs": [],
   "source": [
    "import h5py\n",
    "\n",
    "hf = h5py.File('MER_Dataset.h5', 'w')\n",
    "\n",
    "hf.create_dataset('X', data = np.array(melspectrograms) )\n",
    "hf.create_dataset('Y', data = np.array(labels) )\n",
    "\n",
    "hf.close()"
   ]
  },
  {
   "cell_type": "code",
   "execution_count": 98,
   "metadata": {
    "ExecuteTime": {
     "end_time": "2020-12-06T00:28:52.477675Z",
     "start_time": "2020-12-06T00:28:52.472556Z"
    }
   },
   "outputs": [],
   "source": [
    "h5f = h5py.File('MER_Dataset.h5','r')"
   ]
  },
  {
   "cell_type": "code",
   "execution_count": 106,
   "metadata": {
    "ExecuteTime": {
     "end_time": "2020-12-06T00:33:46.073582Z",
     "start_time": "2020-12-06T00:33:30.906402Z"
    }
   },
   "outputs": [
    {
     "data": {
      "text/plain": [
       "(14317, 40, 1292)"
      ]
     },
     "execution_count": 106,
     "metadata": {},
     "output_type": "execute_result"
    }
   ],
   "source": [
    "np.array( h5f['X'] ).shape"
   ]
  },
  {
   "cell_type": "code",
   "execution_count": null,
   "metadata": {
    "ExecuteTime": {
     "start_time": "2020-12-06T00:33:34.457Z"
    }
   },
   "outputs": [],
   "source": [
    "np.array( h5f['Y'] ).shape"
   ]
  },
  {
   "cell_type": "code",
   "execution_count": 1,
   "metadata": {
    "ExecuteTime": {
     "end_time": "2020-12-18T00:38:56.595959Z",
     "start_time": "2020-12-18T00:38:54.503814Z"
    }
   },
   "outputs": [],
   "source": [
    "import pandas as pd\n",
    "import numpy as np\n",
    "import sox\n",
    "import librosa\n",
    "import os"
   ]
  },
  {
   "cell_type": "code",
   "execution_count": 8,
   "metadata": {
    "ExecuteTime": {
     "end_time": "2020-12-18T00:49:23.153471Z",
     "start_time": "2020-12-18T00:49:23.140879Z"
    }
   },
   "outputs": [
    {
     "data": {
      "text/html": [
       "<div>\n",
       "<style scoped>\n",
       "    .dataframe tbody tr th:only-of-type {\n",
       "        vertical-align: middle;\n",
       "    }\n",
       "\n",
       "    .dataframe tbody tr th {\n",
       "        vertical-align: top;\n",
       "    }\n",
       "\n",
       "    .dataframe thead th {\n",
       "        text-align: right;\n",
       "    }\n",
       "</style>\n",
       "<table border=\"1\" class=\"dataframe\">\n",
       "  <thead>\n",
       "    <tr style=\"text-align: right;\">\n",
       "      <th></th>\n",
       "      <th>song_id</th>\n",
       "      <th>mean_arousal</th>\n",
       "      <th>std_arousal</th>\n",
       "      <th>mean_valence</th>\n",
       "      <th>std_valence</th>\n",
       "    </tr>\n",
       "  </thead>\n",
       "  <tbody>\n",
       "    <tr>\n",
       "      <th>0</th>\n",
       "      <td>2</td>\n",
       "      <td>3.1000</td>\n",
       "      <td>0.99443</td>\n",
       "      <td>3.0000</td>\n",
       "      <td>0.66667</td>\n",
       "    </tr>\n",
       "    <tr>\n",
       "      <th>1</th>\n",
       "      <td>3</td>\n",
       "      <td>3.5000</td>\n",
       "      <td>1.84090</td>\n",
       "      <td>3.3000</td>\n",
       "      <td>1.70290</td>\n",
       "    </tr>\n",
       "    <tr>\n",
       "      <th>2</th>\n",
       "      <td>4</td>\n",
       "      <td>5.7000</td>\n",
       "      <td>1.49440</td>\n",
       "      <td>5.5000</td>\n",
       "      <td>1.71590</td>\n",
       "    </tr>\n",
       "    <tr>\n",
       "      <th>3</th>\n",
       "      <td>5</td>\n",
       "      <td>4.4000</td>\n",
       "      <td>2.11870</td>\n",
       "      <td>5.3000</td>\n",
       "      <td>1.94650</td>\n",
       "    </tr>\n",
       "    <tr>\n",
       "      <th>4</th>\n",
       "      <td>7</td>\n",
       "      <td>5.8000</td>\n",
       "      <td>1.54920</td>\n",
       "      <td>6.4000</td>\n",
       "      <td>1.77640</td>\n",
       "    </tr>\n",
       "    <tr>\n",
       "      <th>...</th>\n",
       "      <td>...</td>\n",
       "      <td>...</td>\n",
       "      <td>...</td>\n",
       "      <td>...</td>\n",
       "      <td>...</td>\n",
       "    </tr>\n",
       "    <tr>\n",
       "      <th>739</th>\n",
       "      <td>995</td>\n",
       "      <td>4.7000</td>\n",
       "      <td>1.33750</td>\n",
       "      <td>2.4000</td>\n",
       "      <td>0.96609</td>\n",
       "    </tr>\n",
       "    <tr>\n",
       "      <th>740</th>\n",
       "      <td>996</td>\n",
       "      <td>6.0000</td>\n",
       "      <td>1.69970</td>\n",
       "      <td>6.7000</td>\n",
       "      <td>1.76700</td>\n",
       "    </tr>\n",
       "    <tr>\n",
       "      <th>741</th>\n",
       "      <td>997</td>\n",
       "      <td>6.4000</td>\n",
       "      <td>2.22110</td>\n",
       "      <td>6.7000</td>\n",
       "      <td>1.76700</td>\n",
       "    </tr>\n",
       "    <tr>\n",
       "      <th>742</th>\n",
       "      <td>999</td>\n",
       "      <td>4.1000</td>\n",
       "      <td>2.42440</td>\n",
       "      <td>5.9000</td>\n",
       "      <td>1.66330</td>\n",
       "    </tr>\n",
       "    <tr>\n",
       "      <th>743</th>\n",
       "      <td>1000</td>\n",
       "      <td>7.2222</td>\n",
       "      <td>1.09290</td>\n",
       "      <td>5.8889</td>\n",
       "      <td>2.08830</td>\n",
       "    </tr>\n",
       "  </tbody>\n",
       "</table>\n",
       "<p>744 rows × 5 columns</p>\n",
       "</div>"
      ],
      "text/plain": [
       "     song_id  mean_arousal  std_arousal  mean_valence  std_valence\n",
       "0          2        3.1000      0.99443        3.0000      0.66667\n",
       "1          3        3.5000      1.84090        3.3000      1.70290\n",
       "2          4        5.7000      1.49440        5.5000      1.71590\n",
       "3          5        4.4000      2.11870        5.3000      1.94650\n",
       "4          7        5.8000      1.54920        6.4000      1.77640\n",
       "..       ...           ...          ...           ...          ...\n",
       "739      995        4.7000      1.33750        2.4000      0.96609\n",
       "740      996        6.0000      1.69970        6.7000      1.76700\n",
       "741      997        6.4000      2.22110        6.7000      1.76700\n",
       "742      999        4.1000      2.42440        5.9000      1.66330\n",
       "743     1000        7.2222      1.09290        5.8889      2.08830\n",
       "\n",
       "[744 rows x 5 columns]"
      ]
     },
     "execution_count": 8,
     "metadata": {},
     "output_type": "execute_result"
    }
   ],
   "source": [
    "va_labels = pd.read_csv(\"45s_Labels/static_annotations.csv\")\n",
    "va_labels"
   ]
  },
  {
   "cell_type": "code",
   "execution_count": 15,
   "metadata": {
    "ExecuteTime": {
     "end_time": "2020-12-18T00:58:15.260224Z",
     "start_time": "2020-12-18T00:57:40.412448Z"
    }
   },
   "outputs": [
    {
     "ename": "KeyboardInterrupt",
     "evalue": "",
     "output_type": "error",
     "traceback": [
      "\u001b[0;31m---------------------------------------------------------------------------\u001b[0m",
      "\u001b[0;31mKeyboardInterrupt\u001b[0m                         Traceback (most recent call last)",
      "\u001b[0;32m<ipython-input-15-616dfdc3c8f0>\u001b[0m in \u001b[0;36m<module>\u001b[0;34m\u001b[0m\n\u001b[1;32m      9\u001b[0m         \u001b[0mvalence\u001b[0m \u001b[0;34m=\u001b[0m \u001b[0mnp\u001b[0m\u001b[0;34m.\u001b[0m\u001b[0mfloat32\u001b[0m\u001b[0;34m(\u001b[0m \u001b[0mva_labels\u001b[0m\u001b[0;34m.\u001b[0m\u001b[0mloc\u001b[0m\u001b[0;34m[\u001b[0m\u001b[0mva_labels\u001b[0m\u001b[0;34m[\u001b[0m\u001b[0;34m'song_id'\u001b[0m\u001b[0;34m]\u001b[0m \u001b[0;34m==\u001b[0m \u001b[0msid\u001b[0m\u001b[0;34m]\u001b[0m\u001b[0;34m[\u001b[0m\u001b[0;34m'mean_valence'\u001b[0m\u001b[0;34m]\u001b[0m \u001b[0;34m)\u001b[0m\u001b[0;34m\u001b[0m\u001b[0;34m\u001b[0m\u001b[0m\n\u001b[1;32m     10\u001b[0m         \u001b[0marousal\u001b[0m \u001b[0;34m=\u001b[0m \u001b[0mnp\u001b[0m\u001b[0;34m.\u001b[0m\u001b[0mfloat32\u001b[0m\u001b[0;34m(\u001b[0m \u001b[0mva_labels\u001b[0m\u001b[0;34m.\u001b[0m\u001b[0mloc\u001b[0m\u001b[0;34m[\u001b[0m\u001b[0mva_labels\u001b[0m\u001b[0;34m[\u001b[0m\u001b[0;34m'song_id'\u001b[0m\u001b[0;34m]\u001b[0m \u001b[0;34m==\u001b[0m \u001b[0msid\u001b[0m\u001b[0;34m]\u001b[0m\u001b[0;34m[\u001b[0m\u001b[0;34m'mean_arousal'\u001b[0m\u001b[0;34m]\u001b[0m \u001b[0;34m)\u001b[0m\u001b[0;34m\u001b[0m\u001b[0;34m\u001b[0m\u001b[0m\n\u001b[0;32m---> 11\u001b[0;31m         \u001b[0maudio_data\u001b[0m \u001b[0;34m=\u001b[0m \u001b[0mnp\u001b[0m\u001b[0;34m.\u001b[0m\u001b[0mfloat32\u001b[0m\u001b[0;34m(\u001b[0m \u001b[0mconverter\u001b[0m\u001b[0;34m.\u001b[0m\u001b[0mbuild_array\u001b[0m\u001b[0;34m(\u001b[0m \u001b[0minput_filepath\u001b[0m \u001b[0;34m=\u001b[0m \u001b[0;34m'45s_mp3/'\u001b[0m \u001b[0;34m+\u001b[0m \u001b[0mfilename\u001b[0m \u001b[0;34m)\u001b[0m \u001b[0;34m)\u001b[0m\u001b[0;34m\u001b[0m\u001b[0;34m\u001b[0m\u001b[0m\n\u001b[0m\u001b[1;32m     12\u001b[0m         \u001b[0mmel_spec\u001b[0m \u001b[0;34m=\u001b[0m \u001b[0mmelspectrogram\u001b[0m\u001b[0;34m(\u001b[0m \u001b[0mdata\u001b[0m \u001b[0;34m=\u001b[0m \u001b[0maudio_data\u001b[0m \u001b[0;34m)\u001b[0m\u001b[0;34m\u001b[0m\u001b[0;34m\u001b[0m\u001b[0m\n\u001b[1;32m     13\u001b[0m         \u001b[0;32mif\u001b[0m \u001b[0mmel_spec\u001b[0m\u001b[0;34m.\u001b[0m\u001b[0mshape\u001b[0m\u001b[0;34m[\u001b[0m\u001b[0;36m1\u001b[0m\u001b[0;34m]\u001b[0m \u001b[0;34m<\u001b[0m \u001b[0;36m1292\u001b[0m\u001b[0;34m:\u001b[0m\u001b[0;34m\u001b[0m\u001b[0;34m\u001b[0m\u001b[0m\n",
      "\u001b[0;32m~/opt/anaconda3/lib/python3.7/site-packages/sox/transform.py\u001b[0m in \u001b[0;36mbuild_array\u001b[0;34m(self, input_filepath, input_array, sample_rate_in, extra_args)\u001b[0m\n\u001b[1;32m    842\u001b[0m             \u001b[0margs\u001b[0m\u001b[0;34m.\u001b[0m\u001b[0mextend\u001b[0m\u001b[0;34m(\u001b[0m\u001b[0mextra_args\u001b[0m\u001b[0;34m)\u001b[0m\u001b[0;34m\u001b[0m\u001b[0;34m\u001b[0m\u001b[0m\n\u001b[1;32m    843\u001b[0m \u001b[0;34m\u001b[0m\u001b[0m\n\u001b[0;32m--> 844\u001b[0;31m         \u001b[0mstatus\u001b[0m\u001b[0;34m,\u001b[0m \u001b[0mout\u001b[0m\u001b[0;34m,\u001b[0m \u001b[0merr\u001b[0m \u001b[0;34m=\u001b[0m \u001b[0msox\u001b[0m\u001b[0;34m(\u001b[0m\u001b[0margs\u001b[0m\u001b[0;34m,\u001b[0m \u001b[0minput_array\u001b[0m\u001b[0;34m,\u001b[0m \u001b[0;32mFalse\u001b[0m\u001b[0;34m)\u001b[0m\u001b[0;34m\u001b[0m\u001b[0;34m\u001b[0m\u001b[0m\n\u001b[0m\u001b[1;32m    845\u001b[0m         \u001b[0;32mif\u001b[0m \u001b[0mstatus\u001b[0m \u001b[0;34m!=\u001b[0m \u001b[0;36m0\u001b[0m\u001b[0;34m:\u001b[0m\u001b[0;34m\u001b[0m\u001b[0;34m\u001b[0m\u001b[0m\n\u001b[1;32m    846\u001b[0m             raise SoxError(\n",
      "\u001b[0;32m~/opt/anaconda3/lib/python3.7/site-packages/sox/core.py\u001b[0m in \u001b[0;36msox\u001b[0;34m(args, src_array, decode_out_with_utf)\u001b[0m\n\u001b[1;32m     56\u001b[0m             )\n\u001b[1;32m     57\u001b[0m \u001b[0;34m\u001b[0m\u001b[0m\n\u001b[0;32m---> 58\u001b[0;31m             \u001b[0mout\u001b[0m\u001b[0;34m,\u001b[0m \u001b[0merr\u001b[0m \u001b[0;34m=\u001b[0m \u001b[0mprocess_handle\u001b[0m\u001b[0;34m.\u001b[0m\u001b[0mcommunicate\u001b[0m\u001b[0;34m(\u001b[0m\u001b[0;34m)\u001b[0m\u001b[0;34m\u001b[0m\u001b[0;34m\u001b[0m\u001b[0m\n\u001b[0m\u001b[1;32m     59\u001b[0m             \u001b[0;32mif\u001b[0m \u001b[0mdecode_out_with_utf\u001b[0m\u001b[0;34m:\u001b[0m\u001b[0;34m\u001b[0m\u001b[0;34m\u001b[0m\u001b[0m\n\u001b[1;32m     60\u001b[0m                 \u001b[0mout\u001b[0m \u001b[0;34m=\u001b[0m \u001b[0mout\u001b[0m\u001b[0;34m.\u001b[0m\u001b[0mdecode\u001b[0m\u001b[0;34m(\u001b[0m\u001b[0;34m\"utf-8\"\u001b[0m\u001b[0;34m)\u001b[0m\u001b[0;34m\u001b[0m\u001b[0;34m\u001b[0m\u001b[0m\n",
      "\u001b[0;32m~/opt/anaconda3/lib/python3.7/subprocess.py\u001b[0m in \u001b[0;36mcommunicate\u001b[0;34m(self, input, timeout)\u001b[0m\n\u001b[1;32m    962\u001b[0m \u001b[0;34m\u001b[0m\u001b[0m\n\u001b[1;32m    963\u001b[0m             \u001b[0;32mtry\u001b[0m\u001b[0;34m:\u001b[0m\u001b[0;34m\u001b[0m\u001b[0;34m\u001b[0m\u001b[0m\n\u001b[0;32m--> 964\u001b[0;31m                 \u001b[0mstdout\u001b[0m\u001b[0;34m,\u001b[0m \u001b[0mstderr\u001b[0m \u001b[0;34m=\u001b[0m \u001b[0mself\u001b[0m\u001b[0;34m.\u001b[0m\u001b[0m_communicate\u001b[0m\u001b[0;34m(\u001b[0m\u001b[0minput\u001b[0m\u001b[0;34m,\u001b[0m \u001b[0mendtime\u001b[0m\u001b[0;34m,\u001b[0m \u001b[0mtimeout\u001b[0m\u001b[0;34m)\u001b[0m\u001b[0;34m\u001b[0m\u001b[0;34m\u001b[0m\u001b[0m\n\u001b[0m\u001b[1;32m    965\u001b[0m             \u001b[0;32mexcept\u001b[0m \u001b[0mKeyboardInterrupt\u001b[0m\u001b[0;34m:\u001b[0m\u001b[0;34m\u001b[0m\u001b[0;34m\u001b[0m\u001b[0m\n\u001b[1;32m    966\u001b[0m                 \u001b[0;31m# https://bugs.python.org/issue25942\u001b[0m\u001b[0;34m\u001b[0m\u001b[0;34m\u001b[0m\u001b[0;34m\u001b[0m\u001b[0m\n",
      "\u001b[0;32m~/opt/anaconda3/lib/python3.7/subprocess.py\u001b[0m in \u001b[0;36m_communicate\u001b[0;34m(self, input, endtime, orig_timeout)\u001b[0m\n\u001b[1;32m   1713\u001b[0m                             'failed to raise TimeoutExpired.')\n\u001b[1;32m   1714\u001b[0m \u001b[0;34m\u001b[0m\u001b[0m\n\u001b[0;32m-> 1715\u001b[0;31m                     \u001b[0mready\u001b[0m \u001b[0;34m=\u001b[0m \u001b[0mselector\u001b[0m\u001b[0;34m.\u001b[0m\u001b[0mselect\u001b[0m\u001b[0;34m(\u001b[0m\u001b[0mtimeout\u001b[0m\u001b[0;34m)\u001b[0m\u001b[0;34m\u001b[0m\u001b[0;34m\u001b[0m\u001b[0m\n\u001b[0m\u001b[1;32m   1716\u001b[0m                     \u001b[0mself\u001b[0m\u001b[0;34m.\u001b[0m\u001b[0m_check_timeout\u001b[0m\u001b[0;34m(\u001b[0m\u001b[0mendtime\u001b[0m\u001b[0;34m,\u001b[0m \u001b[0morig_timeout\u001b[0m\u001b[0;34m,\u001b[0m \u001b[0mstdout\u001b[0m\u001b[0;34m,\u001b[0m \u001b[0mstderr\u001b[0m\u001b[0;34m)\u001b[0m\u001b[0;34m\u001b[0m\u001b[0;34m\u001b[0m\u001b[0m\n\u001b[1;32m   1717\u001b[0m \u001b[0;34m\u001b[0m\u001b[0m\n",
      "\u001b[0;32m~/opt/anaconda3/lib/python3.7/selectors.py\u001b[0m in \u001b[0;36mselect\u001b[0;34m(self, timeout)\u001b[0m\n\u001b[1;32m    413\u001b[0m         \u001b[0mready\u001b[0m \u001b[0;34m=\u001b[0m \u001b[0;34m[\u001b[0m\u001b[0;34m]\u001b[0m\u001b[0;34m\u001b[0m\u001b[0;34m\u001b[0m\u001b[0m\n\u001b[1;32m    414\u001b[0m         \u001b[0;32mtry\u001b[0m\u001b[0;34m:\u001b[0m\u001b[0;34m\u001b[0m\u001b[0;34m\u001b[0m\u001b[0m\n\u001b[0;32m--> 415\u001b[0;31m             \u001b[0mfd_event_list\u001b[0m \u001b[0;34m=\u001b[0m \u001b[0mself\u001b[0m\u001b[0;34m.\u001b[0m\u001b[0m_selector\u001b[0m\u001b[0;34m.\u001b[0m\u001b[0mpoll\u001b[0m\u001b[0;34m(\u001b[0m\u001b[0mtimeout\u001b[0m\u001b[0;34m)\u001b[0m\u001b[0;34m\u001b[0m\u001b[0;34m\u001b[0m\u001b[0m\n\u001b[0m\u001b[1;32m    416\u001b[0m         \u001b[0;32mexcept\u001b[0m \u001b[0mInterruptedError\u001b[0m\u001b[0;34m:\u001b[0m\u001b[0;34m\u001b[0m\u001b[0;34m\u001b[0m\u001b[0m\n\u001b[1;32m    417\u001b[0m             \u001b[0;32mreturn\u001b[0m \u001b[0mready\u001b[0m\u001b[0;34m\u001b[0m\u001b[0;34m\u001b[0m\u001b[0m\n",
      "\u001b[0;31mKeyboardInterrupt\u001b[0m: "
     ]
    }
   ],
   "source": [
    "converter = sox.Transformer()\n",
    "\n",
    "labels = []\n",
    "melspectrograms = []\n",
    "\n",
    "for filename in os.listdir(\"45s_mp3\"):\n",
    "    if filename.endswith(\".mp3\"):\n",
    "        sid = int( filename[:-4])\n",
    "        valence = np.float32( va_labels.loc[va_labels['song_id'] == sid]['mean_valence'] )\n",
    "        arousal = np.float32( va_labels.loc[va_labels['song_id'] == sid]['mean_arousal'] )\n",
    "        audio_data = np.float32( converter.build_array( input_filepath = '45s_mp3/' + filename ) )\n",
    "        mel_spec = melspectrogram( data = audio_data )\n",
    "        if mel_spec.shape[1] < 1292:\n",
    "            to_pad = 1292 - mel_spec.shape[1]\n",
    "            mel_spec = np.append( mel_spec , np.zeros( (40, to_pad ) ), axis = 1 )\n",
    "        else:\n",
    "            mel_spec = mel_spec[: , :1292]\n",
    "        mel_spec = mel_spec.T\n",
    "            \n",
    "        labels.append( (valence, arousal) )\n",
    "        melspectrograms.append( mel_spec )\n"
   ]
  },
  {
   "cell_type": "code",
   "execution_count": null,
   "metadata": {},
   "outputs": [],
   "source": []
  }
 ],
 "metadata": {
  "kernelspec": {
   "display_name": "Python 3",
   "language": "python",
   "name": "python3"
  },
  "language_info": {
   "codemirror_mode": {
    "name": "ipython",
    "version": 3
   },
   "file_extension": ".py",
   "mimetype": "text/x-python",
   "name": "python",
   "nbconvert_exporter": "python",
   "pygments_lexer": "ipython3",
   "version": "3.7.6"
  },
  "toc": {
   "base_numbering": 1,
   "nav_menu": {},
   "number_sections": true,
   "sideBar": true,
   "skip_h1_title": false,
   "title_cell": "Table of Contents",
   "title_sidebar": "Contents",
   "toc_cell": false,
   "toc_position": {},
   "toc_section_display": true,
   "toc_window_display": false
  },
  "varInspector": {
   "cols": {
    "lenName": 16,
    "lenType": 16,
    "lenVar": 40
   },
   "kernels_config": {
    "python": {
     "delete_cmd_postfix": "",
     "delete_cmd_prefix": "del ",
     "library": "var_list.py",
     "varRefreshCmd": "print(var_dic_list())"
    },
    "r": {
     "delete_cmd_postfix": ") ",
     "delete_cmd_prefix": "rm(",
     "library": "var_list.r",
     "varRefreshCmd": "cat(var_dic_list()) "
    }
   },
   "types_to_exclude": [
    "module",
    "function",
    "builtin_function_or_method",
    "instance",
    "_Feature"
   ],
   "window_display": false
  }
 },
 "nbformat": 4,
 "nbformat_minor": 4
}
