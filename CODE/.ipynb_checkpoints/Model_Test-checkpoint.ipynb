{
 "cells": [
  {
   "cell_type": "code",
   "execution_count": 1,
   "metadata": {
    "ExecuteTime": {
     "end_time": "2020-12-19T22:36:37.594349Z",
     "start_time": "2020-12-19T22:36:32.393828Z"
    }
   },
   "outputs": [],
   "source": [
    "import math\n",
    "import numpy as np\n",
    "import h5py\n",
    "import matplotlib.pyplot as plt\n",
    "import scipy\n",
    "\n",
    "import tensorflow as tf\n",
    "import tensorflow.keras.backend as K\n",
    "from tensorflow.keras.layers import Conv1D,MaxPool1D,BatchNormalization,Dropout, Reshape, Dense, Flatten\n",
    "from tensorflow.keras.models import Model, Sequential\n",
    "from tensorflow.keras.layers.experimental import preprocessing\n",
    "from tensorflow.python.framework import ops\n",
    "\n",
    "%matplotlib inline"
   ]
  },
  {
   "cell_type": "code",
   "execution_count": 2,
   "metadata": {
    "ExecuteTime": {
     "end_time": "2020-12-19T22:36:44.812524Z",
     "start_time": "2020-12-19T22:36:37.596946Z"
    }
   },
   "outputs": [],
   "source": [
    "X_train = np.array( h5py.File('MER_Dataset_FULL.h5', 'r')['X_train'] )\n",
    "Y_train = np.array( h5py.File('MER_Dataset_FULL.h5', 'r')['Y_train'] )\n",
    "X_test = np.array( h5py.File('MER_Dataset_FULL.h5', 'r')['X_test'] )\n",
    "Y_test = np.array( h5py.File('MER_Dataset_FULL.h5', 'r')['Y_test'] )"
   ]
  },
  {
   "cell_type": "code",
   "execution_count": 3,
   "metadata": {
    "ExecuteTime": {
     "end_time": "2020-12-19T22:36:50.256576Z",
     "start_time": "2020-12-19T22:36:44.815863Z"
    }
   },
   "outputs": [],
   "source": [
    "mel_normalizer = preprocessing.Normalization(input_shape=[1292, 40])\n",
    "mel_normalizer.adapt(X_train)"
   ]
  },
  {
   "cell_type": "code",
   "execution_count": 10,
   "metadata": {
    "ExecuteTime": {
     "end_time": "2020-12-19T22:37:59.344387Z",
     "start_time": "2020-12-19T22:37:59.217450Z"
    }
   },
   "outputs": [],
   "source": [
    "K.clear_session()\n",
    "\n",
    "model = Sequential([\n",
    "    mel_normalizer,\n",
    "    Conv1D( filters=32, kernel_size=8, strides=1,input_shape=(1292,40) ,padding='valid', data_format='channels_last',\n",
    "           activation='tanh'),\n",
    "    MaxPool1D( pool_size=4, strides=4, padding='valid', data_format='channels_last' ),\n",
    "    BatchNormalization( axis=1, momentum=0.99, epsilon=0.001 ),\n",
    "    Conv1D( filters=16, kernel_size=8, strides=1,padding='valid', data_format='channels_last',activation='tanh'),\n",
    "    MaxPool1D( pool_size=4, strides=4, padding='valid', data_format='channels_last'),\n",
    "    BatchNormalization(axis=1, momentum=0.99, epsilon=0.001),\n",
    "    Flatten(),\n",
    "#     Dropout(.5),\n",
    "    Dense( 64, activation= 'tanh'),\n",
    "    Dropout(.5),\n",
    "    Dense( 2, activation = None ) \n",
    "])"
   ]
  },
  {
   "cell_type": "code",
   "execution_count": 11,
   "metadata": {
    "ExecuteTime": {
     "end_time": "2020-12-19T22:37:59.731854Z",
     "start_time": "2020-12-19T22:37:59.724689Z"
    }
   },
   "outputs": [
    {
     "name": "stdout",
     "output_type": "stream",
     "text": [
      "Model: \"sequential\"\n",
      "_________________________________________________________________\n",
      "Layer (type)                 Output Shape              Param #   \n",
      "=================================================================\n",
      "normalization (Normalization (None, 1292, 40)          81        \n",
      "_________________________________________________________________\n",
      "conv1d (Conv1D)              (None, 1285, 32)          10272     \n",
      "_________________________________________________________________\n",
      "max_pooling1d (MaxPooling1D) (None, 321, 32)           0         \n",
      "_________________________________________________________________\n",
      "batch_normalization (BatchNo (None, 321, 32)           1284      \n",
      "_________________________________________________________________\n",
      "conv1d_1 (Conv1D)            (None, 314, 16)           4112      \n",
      "_________________________________________________________________\n",
      "max_pooling1d_1 (MaxPooling1 (None, 78, 16)            0         \n",
      "_________________________________________________________________\n",
      "batch_normalization_1 (Batch (None, 78, 16)            312       \n",
      "_________________________________________________________________\n",
      "flatten (Flatten)            (None, 1248)              0         \n",
      "_________________________________________________________________\n",
      "dense (Dense)                (None, 64)                79936     \n",
      "_________________________________________________________________\n",
      "dropout (Dropout)            (None, 64)                0         \n",
      "_________________________________________________________________\n",
      "dense_1 (Dense)              (None, 2)                 130       \n",
      "=================================================================\n",
      "Total params: 96,127\n",
      "Trainable params: 95,248\n",
      "Non-trainable params: 879\n",
      "_________________________________________________________________\n"
     ]
    }
   ],
   "source": [
    "model.summary()"
   ]
  },
  {
   "cell_type": "code",
   "execution_count": 17,
   "metadata": {
    "ExecuteTime": {
     "end_time": "2020-12-19T22:54:48.874342Z",
     "start_time": "2020-12-19T22:45:39.648856Z"
    }
   },
   "outputs": [
    {
     "name": "stdout",
     "output_type": "stream",
     "text": [
      "Epoch 1/30\n",
      "377/377 - 17s - loss: 0.0726\n",
      "Epoch 2/30\n",
      "377/377 - 18s - loss: 0.0714\n",
      "Epoch 3/30\n",
      "377/377 - 17s - loss: 0.0684\n",
      "Epoch 4/30\n",
      "377/377 - 17s - loss: 0.0669\n",
      "Epoch 5/30\n",
      "377/377 - 17s - loss: 0.0652\n",
      "Epoch 6/30\n",
      "377/377 - 18s - loss: 0.0631\n",
      "Epoch 7/30\n",
      "377/377 - 18s - loss: 0.0620\n",
      "Epoch 8/30\n",
      "377/377 - 17s - loss: 0.0607\n",
      "Epoch 9/30\n",
      "377/377 - 17s - loss: 0.0594\n",
      "Epoch 10/30\n",
      "377/377 - 19s - loss: 0.0583\n",
      "Epoch 11/30\n",
      "377/377 - 18s - loss: 0.0572\n",
      "Epoch 12/30\n",
      "377/377 - 18s - loss: 0.0557\n",
      "Epoch 13/30\n",
      "377/377 - 17s - loss: 0.0554\n",
      "Epoch 14/30\n",
      "377/377 - 17s - loss: 0.0533\n",
      "Epoch 15/30\n",
      "377/377 - 17s - loss: 0.0529\n",
      "Epoch 16/30\n",
      "377/377 - 18s - loss: 0.0524\n",
      "Epoch 17/30\n",
      "377/377 - 18s - loss: 0.0510\n",
      "Epoch 18/30\n",
      "377/377 - 17s - loss: 0.0499\n",
      "Epoch 19/30\n",
      "377/377 - 20s - loss: 0.0501\n",
      "Epoch 20/30\n",
      "377/377 - 17s - loss: 0.0499\n",
      "Epoch 21/30\n",
      "377/377 - 18s - loss: 0.0484\n",
      "Epoch 22/30\n",
      "377/377 - 18s - loss: 0.0471\n",
      "Epoch 23/30\n",
      "377/377 - 17s - loss: 0.0467\n",
      "Epoch 24/30\n",
      "377/377 - 18s - loss: 0.0457\n",
      "Epoch 25/30\n",
      "377/377 - 18s - loss: 0.0458\n",
      "Epoch 26/30\n",
      "377/377 - 17s - loss: 0.0458\n",
      "Epoch 27/30\n",
      "377/377 - 17s - loss: 0.0451\n",
      "Epoch 28/30\n",
      "377/377 - 18s - loss: 0.0441\n",
      "Epoch 29/30\n",
      "377/377 - 18s - loss: 0.0443\n",
      "Epoch 30/30\n",
      "377/377 - 18s - loss: 0.0433\n"
     ]
    }
   ],
   "source": [
    "model.compile(loss=\"mean_squared_error\",\n",
    "                optimizer=tf.keras.optimizers.Adam(0.001))\n",
    "\n",
    "history = model.fit(\n",
    "    X_train, Y_train,\n",
    "    epochs=30,\n",
    "    verbose=2,\n",
    "    # Calculate validation results on 25% of the training data\n",
    "#     validation_split = 0.25   # This is dropped after we settled on the hyper-parameters above.\n",
    "    )\n"
   ]
  },
  {
   "cell_type": "code",
   "execution_count": 20,
   "metadata": {
    "ExecuteTime": {
     "end_time": "2020-12-19T22:58:22.142702Z",
     "start_time": "2020-12-19T22:58:21.966996Z"
    }
   },
   "outputs": [
    {
     "data": {
      "image/png": "[encoded data removed]",
      "text/plain": [
       "<Figure size 432x288 with 1 Axes>"
      ]
     },
     "metadata": {
      "needs_background": "light"
     },
     "output_type": "display_data"
    }
   ],
   "source": [
    "def plot_loss(history):\n",
    "    plt.plot(history.history['loss'], label='loss')\n",
    "#     plt.plot(history.history['val_loss'], label='val_loss')\n",
    "    plt.ylim([0, .20])\n",
    "    plt.xlabel('Epoch')\n",
    "    plt.ylabel('Error [Valence-Arousal]')\n",
    "    plt.legend()\n",
    "    plt.grid(True)\n",
    "\n",
    "plot_loss(history)"
   ]
  },
  {
   "cell_type": "code",
   "execution_count": 21,
   "metadata": {
    "ExecuteTime": {
     "end_time": "2020-12-19T22:58:26.951565Z",
     "start_time": "2020-12-19T22:58:25.481398Z"
    }
   },
   "outputs": [
    {
     "name": "stdout",
     "output_type": "stream",
     "text": [
      "95/95 [==============================] - 1s 11ms/step - loss: 0.1449\n"
     ]
    },
    {
     "data": {
      "text/plain": [
       "0.14491291344165802"
      ]
     },
     "execution_count": 21,
     "metadata": {},
     "output_type": "execute_result"
    }
   ],
   "source": [
    "model.evaluate(X_test, Y_test, verbose = 1 )"
   ]
  },
  {
   "cell_type": "code",
   "execution_count": 22,
   "metadata": {
    "ExecuteTime": {
     "end_time": "2020-12-19T22:58:32.472488Z",
     "start_time": "2020-12-19T22:58:29.941264Z"
    }
   },
   "outputs": [
    {
     "data": {
      "image/png": "[encoded data removed]",
      "text/plain": [
       "<Figure size 1080x360 with 3 Axes>"
      ]
     },
     "metadata": {
      "needs_background": "light"
     },
     "output_type": "display_data"
    }
   ],
   "source": [
    "plt.figure(figsize = (15, 5))\n",
    "\n",
    "plt.subplot(131)\n",
    "plt.title('Predict')\n",
    "predictions = model.predict( X_test )\n",
    "plt.scatter( predictions[ : , 0], predictions[: , 1]  )\n",
    "plt.xlabel('valence')\n",
    "plt.ylabel('arousal')\n",
    "plt.xlim(-1.1, 1.1)\n",
    "plt.ylim(-1.1, 1.1)\n",
    "\n",
    "plt.subplot(132)\n",
    "plt.title('Actual')\n",
    "plt.scatter( Y_test[:, 0], Y_test[:, 1] )\n",
    "plt.xlim(-1.1, 1.1)\n",
    "plt.ylim(-1.1, 1.1)\n",
    "plt.xlabel('valence')\n",
    "plt.ylabel('arousal')\n",
    "\n",
    "plt.subplot(133)\n",
    "plt.title('Training Data')\n",
    "plt.scatter( Y_train[:, 0], Y_train[:, 1] )\n",
    "plt.xlim(-1.1, 1.1)\n",
    "plt.ylim(-1.1, 1.1)\n",
    "plt.xlabel('valence')\n",
    "plt.ylabel('arousal')\n",
    "\n",
    "plt.tight_layout()"
   ]
  },
  {
   "cell_type": "code",
   "execution_count": 23,
   "metadata": {
    "ExecuteTime": {
     "end_time": "2020-12-19T22:58:35.145409Z",
     "start_time": "2020-12-19T22:58:35.140568Z"
    }
   },
   "outputs": [
    {
     "name": "stdout",
     "output_type": "stream",
     "text": [
      "-1.1208896357512206 0.7601550520350914\n"
     ]
    }
   ],
   "source": [
    "from sklearn.metrics import r2_score\n",
    "\n",
    "valence_score =  r2_score( Y_test[0], predictions[0] )\n",
    "arousal_score =  r2_score( Y_test[1], predictions[1] )\n",
    "print( valence_score, arousal_score )"
   ]
  }
 ],
 "metadata": {
  "kernelspec": {
   "display_name": "Python 3",
   "language": "python",
   "name": "python3"
  },
  "language_info": {
   "codemirror_mode": {
    "name": "ipython",
    "version": 3
   },
   "file_extension": ".py",
   "mimetype": "text/x-python",
   "name": "python",
   "nbconvert_exporter": "python",
   "pygments_lexer": "ipython3",
   "version": "3.7.6"
  },
  "toc": {
   "base_numbering": 1,
   "nav_menu": {},
   "number_sections": true,
   "sideBar": true,
   "skip_h1_title": false,
   "title_cell": "Table of Contents",
   "title_sidebar": "Contents",
   "toc_cell": false,
   "toc_position": {},
   "toc_section_display": true,
   "toc_window_display": false
  },
  "varInspector": {
   "cols": {
    "lenName": 16,
    "lenType": 16,
    "lenVar": 40
   },
   "kernels_config": {
    "python": {
     "delete_cmd_postfix": "",
     "delete_cmd_prefix": "del ",
     "library": "var_list.py",
     "varRefreshCmd": "print(var_dic_list())"
    },
    "r": {
     "delete_cmd_postfix": ") ",
     "delete_cmd_prefix": "rm(",
     "library": "var_list.r",
     "varRefreshCmd": "cat(var_dic_list()) "
    }
   },
   "types_to_exclude": [
    "module",
    "function",
    "builtin_function_or_method",
    "instance",
    "_Feature"
   ],
   "window_display": false
  }
 },
 "nbformat": 4,
 "nbformat_minor": 4
}
