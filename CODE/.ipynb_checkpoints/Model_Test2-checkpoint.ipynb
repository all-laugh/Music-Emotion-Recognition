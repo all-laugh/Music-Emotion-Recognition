{
 "cells": [
  {
   "cell_type": "code",
   "execution_count": 1,
   "metadata": {
    "ExecuteTime": {
     "end_time": "2020-12-19T22:36:49.953188Z",
     "start_time": "2020-12-19T22:36:47.330267Z"
    }
   },
   "outputs": [],
   "source": [
    "import math\n",
    "import numpy as np\n",
    "import h5py\n",
    "import matplotlib.pyplot as plt\n",
    "import scipy\n",
    "\n",
    "import tensorflow as tf\n",
    "import tensorflow.keras.backend as K\n",
    "from tensorflow.keras.layers import Conv1D,MaxPool1D,BatchNormalization,Dropout, Reshape, Dense, Flatten\n",
    "from tensorflow.keras.models import Model, Sequential\n",
    "from tensorflow.keras.layers.experimental import preprocessing\n",
    "from tensorflow.python.framework import ops\n",
    "\n",
    "%matplotlib inline"
   ]
  },
  {
   "cell_type": "code",
   "execution_count": 3,
   "metadata": {
    "ExecuteTime": {
     "end_time": "2020-12-19T22:37:56.015865Z",
     "start_time": "2020-12-19T22:37:35.006478Z"
    }
   },
   "outputs": [],
   "source": [
    "X_train = np.array( h5py.File('MER_Dataset_FULL.h5', 'r')['X_train'] )\n",
    "Y_train = np.array( h5py.File('MER_Dataset_FULL.h5', 'r')['Y_train'] )\n",
    "X_test = np.array( h5py.File('MER_Dataset_FULL.h5', 'r')['X_test'] )\n",
    "Y_test = np.array( h5py.File('MER_Dataset_FULL.h5', 'r')['Y_test'] )"
   ]
  },
  {
   "cell_type": "code",
   "execution_count": 4,
   "metadata": {
    "ExecuteTime": {
     "end_time": "2020-12-19T22:41:45.341554Z",
     "start_time": "2020-12-19T22:41:25.492539Z"
    }
   },
   "outputs": [],
   "source": [
    "mel_normalizer = preprocessing.Normalization(input_shape=[1292, 40])\n",
    "mel_normalizer.adapt(X_train)"
   ]
  },
  {
   "cell_type": "code",
   "execution_count": 12,
   "metadata": {
    "ExecuteTime": {
     "end_time": "2020-12-19T23:00:22.990479Z",
     "start_time": "2020-12-19T23:00:22.760776Z"
    }
   },
   "outputs": [],
   "source": [
    "K.clear_session()\n",
    "\n",
    "model = Sequential([\n",
    "    mel_normalizer,\n",
    "    Conv1D( filters=32, kernel_size=4, strides=1,input_shape=(1292,40) ,padding='valid', data_format='channels_last',\n",
    "           activation='tanh'),\n",
    "    MaxPool1D( pool_size=2, strides=2, padding='Valid', data_format='channels_last' ),\n",
    "    BatchNormalization( axis=1, momentum=0.99, epsilon=0.001 ),\n",
    "    \n",
    "    Conv1D( filters=32, kernel_size=4, strides=1,padding='valid', data_format='channels_last',\n",
    "           activation='tanh'),\n",
    "    MaxPool1D( pool_size=2, strides=2, padding='Valid', data_format='channels_last' ),\n",
    "    BatchNormalization( axis=1, momentum=0.99, epsilon=0.001 ),\n",
    "    \n",
    "    Conv1D( filters=16, kernel_size=4, strides=1,padding='valid', data_format='channels_last',\n",
    "           activation='tanh'),\n",
    "    MaxPool1D( pool_size=2, strides=2, padding='Valid', data_format='channels_last' ),\n",
    "    BatchNormalization( axis=1, momentum=0.99, epsilon=0.001 ),\n",
    "    \n",
    "    Conv1D( filters=16, kernel_size=4, strides=1,padding='valid', data_format='channels_last',\n",
    "           activation='tanh'),\n",
    "    MaxPool1D( pool_size=2, strides=2, padding='Valid', data_format='channels_last' ),\n",
    "    BatchNormalization( axis=1, momentum=0.99, epsilon=0.001 ),\n",
    "    \n",
    "    Conv1D( filters=8, kernel_size=4, strides=1,padding='valid', data_format='channels_last',\n",
    "           activation='tanh'),\n",
    "    MaxPool1D( pool_size=2, strides=2, padding='Valid', data_format='channels_last' ),\n",
    "    BatchNormalization( axis=1, momentum=0.99, epsilon=0.001 ),\n",
    "    \n",
    "    Conv1D( filters=8, kernel_size=4, strides=1,padding='valid', data_format='channels_last',\n",
    "           activation='tanh'),\n",
    "    MaxPool1D( pool_size=2, strides=2, padding='Valid', data_format='channels_last' ),\n",
    "    BatchNormalization( axis=1, momentum=0.99, epsilon=0.001 ),\n",
    "    \n",
    "    Flatten(),\n",
    "    Dropout(0.5),\n",
    "    Dense( 64, activation= 'tanh'),\n",
    "    Dropout(0.5),\n",
    "    Dense( 2, activation = None ) \n",
    "])"
   ]
  },
  {
   "cell_type": "code",
   "execution_count": 13,
   "metadata": {
    "ExecuteTime": {
     "end_time": "2020-12-19T23:00:23.102468Z",
     "start_time": "2020-12-19T23:00:23.094626Z"
    }
   },
   "outputs": [
    {
     "name": "stdout",
     "output_type": "stream",
     "text": [
      "Model: \"sequential\"\n",
      "_________________________________________________________________\n",
      "Layer (type)                 Output Shape              Param #   \n",
      "=================================================================\n",
      "normalization (Normalization (None, 1292, 40)          81        \n",
      "_________________________________________________________________\n",
      "conv1d (Conv1D)              (None, 1289, 32)          5152      \n",
      "_________________________________________________________________\n",
      "max_pooling1d (MaxPooling1D) (None, 644, 32)           0         \n",
      "_________________________________________________________________\n",
      "batch_normalization (BatchNo (None, 644, 32)           2576      \n",
      "_________________________________________________________________\n",
      "conv1d_1 (Conv1D)            (None, 641, 32)           4128      \n",
      "_________________________________________________________________\n",
      "max_pooling1d_1 (MaxPooling1 (None, 320, 32)           0         \n",
      "_________________________________________________________________\n",
      "batch_normalization_1 (Batch (None, 320, 32)           1280      \n",
      "_________________________________________________________________\n",
      "conv1d_2 (Conv1D)            (None, 317, 16)           2064      \n",
      "_________________________________________________________________\n",
      "max_pooling1d_2 (MaxPooling1 (None, 158, 16)           0         \n",
      "_________________________________________________________________\n",
      "batch_normalization_2 (Batch (None, 158, 16)           632       \n",
      "_________________________________________________________________\n",
      "conv1d_3 (Conv1D)            (None, 155, 16)           1040      \n",
      "_________________________________________________________________\n",
      "max_pooling1d_3 (MaxPooling1 (None, 77, 16)            0         \n",
      "_________________________________________________________________\n",
      "batch_normalization_3 (Batch (None, 77, 16)            308       \n",
      "_________________________________________________________________\n",
      "conv1d_4 (Conv1D)            (None, 74, 8)             520       \n",
      "_________________________________________________________________\n",
      "max_pooling1d_4 (MaxPooling1 (None, 37, 8)             0         \n",
      "_________________________________________________________________\n",
      "batch_normalization_4 (Batch (None, 37, 8)             148       \n",
      "_________________________________________________________________\n",
      "conv1d_5 (Conv1D)            (None, 34, 8)             264       \n",
      "_________________________________________________________________\n",
      "max_pooling1d_5 (MaxPooling1 (None, 17, 8)             0         \n",
      "_________________________________________________________________\n",
      "batch_normalization_5 (Batch (None, 17, 8)             68        \n",
      "_________________________________________________________________\n",
      "flatten (Flatten)            (None, 136)               0         \n",
      "_________________________________________________________________\n",
      "dropout (Dropout)            (None, 136)               0         \n",
      "_________________________________________________________________\n",
      "dense (Dense)                (None, 64)                8768      \n",
      "_________________________________________________________________\n",
      "dropout_1 (Dropout)          (None, 64)                0         \n",
      "_________________________________________________________________\n",
      "dense_1 (Dense)              (None, 2)                 130       \n",
      "=================================================================\n",
      "Total params: 27,159\n",
      "Trainable params: 24,572\n",
      "Non-trainable params: 2,587\n",
      "_________________________________________________________________\n"
     ]
    }
   ],
   "source": [
    "model.summary()"
   ]
  },
  {
   "cell_type": "code",
   "execution_count": 14,
   "metadata": {
    "ExecuteTime": {
     "end_time": "2020-12-19T23:10:07.460001Z",
     "start_time": "2020-12-19T23:00:24.355239Z"
    }
   },
   "outputs": [
    {
     "name": "stdout",
     "output_type": "stream",
     "text": [
      "Epoch 1/30\n",
      "377/377 - 17s - loss: 0.6387\n",
      "Epoch 2/30\n",
      "377/377 - 18s - loss: 0.1769\n",
      "Epoch 3/30\n",
      "377/377 - 18s - loss: 0.1384\n",
      "Epoch 4/30\n",
      "377/377 - 18s - loss: 0.1337\n",
      "Epoch 5/30\n",
      "377/377 - 18s - loss: 0.1309\n",
      "Epoch 6/30\n",
      "377/377 - 18s - loss: 0.1273\n",
      "Epoch 7/30\n",
      "377/377 - 18s - loss: 0.1249\n",
      "Epoch 8/30\n",
      "377/377 - 18s - loss: 0.1229\n",
      "Epoch 9/30\n",
      "377/377 - 17s - loss: 0.1211\n",
      "Epoch 10/30\n",
      "377/377 - 18s - loss: 0.1192\n",
      "Epoch 11/30\n",
      "377/377 - 19s - loss: 0.1183\n",
      "Epoch 12/30\n",
      "377/377 - 18s - loss: 0.1177\n",
      "Epoch 13/30\n",
      "377/377 - 19s - loss: 0.1172\n",
      "Epoch 14/30\n",
      "377/377 - 19s - loss: 0.1163\n",
      "Epoch 15/30\n",
      "377/377 - 19s - loss: 0.1148\n",
      "Epoch 16/30\n",
      "377/377 - 20s - loss: 0.1153\n",
      "Epoch 17/30\n",
      "377/377 - 20s - loss: 0.1142\n",
      "Epoch 18/30\n",
      "377/377 - 20s - loss: 0.1137\n",
      "Epoch 19/30\n",
      "377/377 - 20s - loss: 0.1130\n",
      "Epoch 20/30\n",
      "377/377 - 20s - loss: 0.1136\n",
      "Epoch 21/30\n",
      "377/377 - 19s - loss: 0.1111\n",
      "Epoch 22/30\n",
      "377/377 - 20s - loss: 0.1117\n",
      "Epoch 23/30\n",
      "377/377 - 19s - loss: 0.1104\n",
      "Epoch 24/30\n",
      "377/377 - 19s - loss: 0.1098\n",
      "Epoch 25/30\n",
      "377/377 - 19s - loss: 0.1095\n",
      "Epoch 26/30\n",
      "377/377 - 19s - loss: 0.1085\n",
      "Epoch 27/30\n",
      "377/377 - 20s - loss: 0.1087\n",
      "Epoch 28/30\n",
      "377/377 - 20s - loss: 0.1067\n",
      "Epoch 29/30\n",
      "377/377 - 22s - loss: 0.1070\n",
      "Epoch 30/30\n",
      "377/377 - 21s - loss: 0.1056\n"
     ]
    }
   ],
   "source": [
    "model.compile(loss=\"mean_squared_error\",\n",
    "                optimizer=tf.keras.optimizers.Adam(0.001))\n",
    "\n",
    "history = model.fit(\n",
    "    X_train, Y_train,\n",
    "    epochs=30,\n",
    "    verbose=2,\n",
    "    # Calculate validation results on 10% of the training data\n",
    "#     validation_split = 0.25             # This is droppped after we settled on the hyper-parameters above.\n",
    "    )\n"
   ]
  },
  {
   "cell_type": "code",
   "execution_count": 15,
   "metadata": {
    "ExecuteTime": {
     "end_time": "2020-12-19T23:10:07.657906Z",
     "start_time": "2020-12-19T23:10:07.504032Z"
    }
   },
   "outputs": [
    {
     "data": {
      "image/png": "[encoded data removed]",
      "text/plain": [
       "<Figure size 432x288 with 1 Axes>"
      ]
     },
     "metadata": {
      "needs_background": "light"
     },
     "output_type": "display_data"
    }
   ],
   "source": [
    "def plot_loss(history):\n",
    "    plt.plot(history.history['loss'], label='loss')\n",
    "#     plt.plot(history.history['val_loss'], label='val_loss')\n",
    "\n",
    "    plt.ylim([.05, .2])\n",
    "    plt.xlabel('Epoch')\n",
    "    plt.ylabel('Error [Valence-Arousal]')\n",
    "    plt.legend()\n",
    "    plt.grid(True)\n",
    "\n",
    "plot_loss(history)  "
   ]
  },
  {
   "cell_type": "code",
   "execution_count": 16,
   "metadata": {
    "ExecuteTime": {
     "end_time": "2020-12-19T23:10:10.240418Z",
     "start_time": "2020-12-19T23:10:07.692818Z"
    }
   },
   "outputs": [
    {
     "name": "stdout",
     "output_type": "stream",
     "text": [
      "95/95 [==============================] - 2s 18ms/step - loss: 0.1104\n"
     ]
    },
    {
     "data": {
      "text/plain": [
       "0.11036162823438644"
      ]
     },
     "execution_count": 16,
     "metadata": {},
     "output_type": "execute_result"
    }
   ],
   "source": [
    "model.evaluate(X_test, Y_test, verbose = 1 )"
   ]
  },
  {
   "cell_type": "code",
   "execution_count": 17,
   "metadata": {
    "ExecuteTime": {
     "end_time": "2020-12-19T23:10:13.223493Z",
     "start_time": "2020-12-19T23:10:10.276921Z"
    }
   },
   "outputs": [
    {
     "data": {
      "image/png": "[encoded data removed]",
      "text/plain": [
       "<Figure size 1080x360 with 3 Axes>"
      ]
     },
     "metadata": {
      "needs_background": "light"
     },
     "output_type": "display_data"
    }
   ],
   "source": [
    "plt.figure(figsize = (15, 5))\n",
    "\n",
    "plt.subplot(131)\n",
    "plt.title('Predict')\n",
    "predictions = model.predict( X_test )\n",
    "plt.scatter( predictions[ : , 0], predictions[: , 1]  )\n",
    "plt.xlabel('valence')\n",
    "plt.ylabel('arousal')\n",
    "plt.xlim(-1.1, 1.1)\n",
    "plt.ylim(-1.1, 1.1)\n",
    "\n",
    "plt.subplot(132)\n",
    "plt.title('Actual')\n",
    "plt.scatter( Y_test[:, 0], Y_test[:, 1] )\n",
    "plt.xlim(-1.1, 1.1)\n",
    "plt.ylim(-1.1, 1.1)\n",
    "plt.xlabel('valence')\n",
    "plt.ylabel('arousal')\n",
    "\n",
    "plt.subplot(133)\n",
    "plt.title('Training')\n",
    "plt.scatter( Y_train[:, 0], Y_train[:, 1] )\n",
    "plt.xlim(-1.1, 1.1)\n",
    "plt.ylim(-1.1, 1.1)\n",
    "plt.xlabel('valence')\n",
    "plt.ylabel('arousal')\n",
    "\n",
    "plt.tight_layout()"
   ]
  },
  {
   "cell_type": "code",
   "execution_count": 18,
   "metadata": {
    "ExecuteTime": {
     "end_time": "2020-12-19T23:10:13.260472Z",
     "start_time": "2020-12-19T23:10:13.255751Z"
    }
   },
   "outputs": [
    {
     "name": "stdout",
     "output_type": "stream",
     "text": [
      "Valence:  0.9811595833935869 | Arousal:  0.17344585607689422\n"
     ]
    }
   ],
   "source": [
    "from sklearn.metrics import r2_score\n",
    "\n",
    "valence_score =  r2_score( Y_test[0], predictions[0] )\n",
    "arousal_score =  r2_score( Y_test[1], predictions[1] )\n",
    "print( \"Valence: \", valence_score, \"| Arousal: \", arousal_score )"
   ]
  }
 ],
 "metadata": {
  "kernelspec": {
   "display_name": "Python 3",
   "language": "python",
   "name": "python3"
  },
  "language_info": {
   "codemirror_mode": {
    "name": "ipython",
    "version": 3
   },
   "file_extension": ".py",
   "mimetype": "text/x-python",
   "name": "python",
   "nbconvert_exporter": "python",
   "pygments_lexer": "ipython3",
   "version": "3.7.6"
  },
  "toc": {
   "base_numbering": 1,
   "nav_menu": {},
   "number_sections": true,
   "sideBar": true,
   "skip_h1_title": false,
   "title_cell": "Table of Contents",
   "title_sidebar": "Contents",
   "toc_cell": false,
   "toc_position": {},
   "toc_section_display": true,
   "toc_window_display": false
  },
  "varInspector": {
   "cols": {
    "lenName": 16,
    "lenType": 16,
    "lenVar": 40
   },
   "kernels_config": {
    "python": {
     "delete_cmd_postfix": "",
     "delete_cmd_prefix": "del ",
     "library": "var_list.py",
     "varRefreshCmd": "print(var_dic_list())"
    },
    "r": {
     "delete_cmd_postfix": ") ",
     "delete_cmd_prefix": "rm(",
     "library": "var_list.r",
     "varRefreshCmd": "cat(var_dic_list()) "
    }
   },
   "types_to_exclude": [
    "module",
    "function",
    "builtin_function_or_method",
    "instance",
    "_Feature"
   ],
   "window_display": false
  }
 },
 "nbformat": 4,
 "nbformat_minor": 4
}
