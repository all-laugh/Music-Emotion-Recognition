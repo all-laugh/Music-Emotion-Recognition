{
 "cells": [
  {
   "cell_type": "code",
   "execution_count": null,
   "metadata": {
    "ExecuteTime": {
     "end_time": "2020-12-05T18:51:54.041081Z",
     "start_time": "2020-12-05T18:51:52.842638Z"
    }
   },
   "outputs": [],
   "source": [
    "import pandas as pd\n",
    "import numpy as np\n",
    "import sox\n",
    "import librosa\n",
    "import os\n",
    "\n",
    "# Getting labels \n",
    "test_labels = pd.read_csv(\"deezer_mood_detection_dataset-master/test.csv\")\n",
    "train_labels = pd.read_csv(\"deezer_mood_detection_dataset-master/train.csv\")\n",
    "validate_labels = pd.read_csv(\"deezer_mood_detection_dataset-master/validation.csv\")\n",
    "\n",
    "labels = [test_labels, train_labels, validate_labels]\n",
    "labels_df = pd.concat(labels)\n",
    "\n",
    "labels_df.head()"
   ]
  },
  {
   "cell_type": "code",
   "execution_count": null,
   "metadata": {
    "ExecuteTime": {
     "end_time": "2020-12-05T21:44:32.386066Z",
     "start_time": "2020-12-05T21:43:59.704380Z"
    }
   },
   "outputs": [],
   "source": [
    "# local_dataset = labels_df.loc[labels_df['dzr_sng_id'] == 532171]\n",
    "local_dataset = pd.DataFrame()\n",
    "labeled_ids = labels_df['dzr_sng_id'].tolist()\n",
    "\n",
    "for filename in os.listdir(\"deezer_mp3\"):\n",
    "    if filename.endswith(\".mp3\"):\n",
    "        dzr_id = int( filename[:-4])\n",
    "        if dzr_id in labeled_ids:\n",
    "            local_dataset = pd.concat([local_dataset , \n",
    "                                       labels_df.loc[labels_df['dzr_sng_id'] == dzr_id]], \n",
    "                                       ignore_index=True)\n",
    "\n",
    "local_dataset.head()"
   ]
  },
  {
   "cell_type": "code",
   "execution_count": null,
   "metadata": {
    "ExecuteTime": {
     "end_time": "2020-12-05T21:51:05.329919Z",
     "start_time": "2020-12-05T21:51:05.231918Z"
    }
   },
   "outputs": [],
   "source": [
    "local_dataset.to_csv('local_mp3_labels.csv')"
   ]
  },
  {
   "cell_type": "code",
   "execution_count": null,
   "metadata": {
    "ExecuteTime": {
     "start_time": "2020-12-18T01:28:40.705Z"
    }
   },
   "outputs": [],
   "source": [
    "def melspectrogram( data, n_fft = 1024, hop_length = 1024, win_length = 1024, sr = 44100, n_mels = 40 ):\n",
    "    S = librosa.stft(data, n_fft=n_fft, hop_length=hop_length, win_length=win_length)\n",
    "    mel_basis = librosa.filters.mel(sr, n_fft=n_fft, n_mels=n_mels)\n",
    "    mel_S = mel_basis @ np.abs(S)\n",
    "    mel_S = 10 * np.log10( mel_S + np.finfo(np.float32).eps) \n",
    "    \n",
    "    return mel_S"
   ]
  },
  {
   "cell_type": "code",
   "execution_count": null,
   "metadata": {
    "ExecuteTime": {
     "end_time": "2020-12-05T22:54:37.240700Z",
     "start_time": "2020-12-05T22:15:40.543878Z"
    }
   },
   "outputs": [],
   "source": [
    "converter = sox.Transformer()\n",
    "\n",
    "labels = []\n",
    "melspectrograms = []\n",
    "\n",
    "for filename in os.listdir(\"deezer_mp3\"):\n",
    "    if filename.endswith(\".mp3\"):\n",
    "        dzr_id = int( filename[:-4])\n",
    "        valence = np.float64( local_dataset.loc[local_dataset['dzr_sng_id'] == dzr_id]['valence'] )\n",
    "        arousal = np.float64( local_dataset.loc[local_dataset['dzr_sng_id'] == dzr_id]['arousal'] )\n",
    "        audio_data = converter.build_array( input_filepath = 'deezer_mp3/' + filename )\n",
    "        audio_data = np.mean( audio_data, axis = 1 )\n",
    "        mel_spec = melspectrogram( data = audio_data )\n",
    "        if mel_spec.shape[1] < 1292:\n",
    "            to_pad = 1292 - mel_spec.shape[1]\n",
    "            mel_spec = np.append( mel_spec , np.zeros( (40, to_pad ) ), axis = 1 )\n",
    "        else:\n",
    "            mel_spec = mel_spec[: , :1292]\n",
    "            \n",
    "        labels.append( (valence, arousal) )\n",
    "        melspectrograms.append( mel_spec )\n"
   ]
  },
  {
   "cell_type": "code",
   "execution_count": null,
   "metadata": {
    "ExecuteTime": {
     "end_time": "2020-12-06T01:03:52.553210Z",
     "start_time": "2020-12-06T01:03:52.524284Z"
    }
   },
   "outputs": [],
   "source": [
    "import os\n",
    "filenames = []\n",
    "\n",
    "for filename in os.listdir(\"deezer_mp3\"):\n",
    "    if filename.endswith(\".mp3\"):\n",
    "        filenames.append( filename )\n",
    "        \n",
    "import pickle\n",
    "with open('mp3_names.pkl', 'wb') as fp:\n",
    "    pickle.dump(filenames, fp)\n",
    "    \n",
    "with open ('mp3_names.pkl', 'rb') as fp:\n",
    "    itemlist = pickle.load(fp)\n",
    "    \n",
    "len( itemlist )"
   ]
  },
  {
   "cell_type": "code",
   "execution_count": null,
   "metadata": {
    "ExecuteTime": {
     "end_time": "2020-12-06T00:10:36.556609Z",
     "start_time": "2020-12-06T00:10:36.552447Z"
    }
   },
   "outputs": [],
   "source": [
    "len(melspectrograms)"
   ]
  },
  {
   "cell_type": "code",
   "execution_count": null,
   "metadata": {
    "ExecuteTime": {
     "end_time": "2020-12-06T00:18:09.215876Z",
     "start_time": "2020-12-06T00:18:09.205985Z"
    }
   },
   "outputs": [],
   "source": [
    "np.array(labels).dtype"
   ]
  },
  {
   "cell_type": "code",
   "execution_count": null,
   "metadata": {
    "ExecuteTime": {
     "end_time": "2020-12-06T00:18:36.763013Z",
     "start_time": "2020-12-06T00:18:29.187240Z"
    }
   },
   "outputs": [],
   "source": [
    "np.array(melspectrograms).dtype"
   ]
  },
  {
   "cell_type": "code",
   "execution_count": null,
   "metadata": {
    "ExecuteTime": {
     "end_time": "2020-12-06T00:28:19.264268Z",
     "start_time": "2020-12-06T00:28:13.681558Z"
    }
   },
   "outputs": [],
   "source": [
    "import h5py\n",
    "\n",
    "hf = h5py.File('MER_Dataset.h5', 'w')\n",
    "\n",
    "hf.create_dataset('X', data = np.array(melspectrograms) )\n",
    "hf.create_dataset('Y', data = np.array(labels) )\n",
    "\n",
    "hf.close()"
   ]
  },
  {
   "cell_type": "code",
   "execution_count": null,
   "metadata": {
    "ExecuteTime": {
     "end_time": "2020-12-06T00:28:52.477675Z",
     "start_time": "2020-12-06T00:28:52.472556Z"
    }
   },
   "outputs": [],
   "source": [
    "h5f = h5py.File('MER_Dataset.h5','r')"
   ]
  },
  {
   "cell_type": "code",
   "execution_count": null,
   "metadata": {
    "ExecuteTime": {
     "end_time": "2020-12-06T00:33:46.073582Z",
     "start_time": "2020-12-06T00:33:30.906402Z"
    }
   },
   "outputs": [],
   "source": [
    "np.array( h5f['X'] ).shape"
   ]
  },
  {
   "cell_type": "code",
   "execution_count": null,
   "metadata": {
    "ExecuteTime": {
     "start_time": "2020-12-06T00:33:34.457Z"
    }
   },
   "outputs": [],
   "source": [
    "np.array( h5f['Y'] ).shape"
   ]
  },
  {
   "cell_type": "code",
   "execution_count": 4,
   "metadata": {
    "ExecuteTime": {
     "end_time": "2020-12-18T01:33:23.162789Z",
     "start_time": "2020-12-18T01:33:22.277555Z"
    }
   },
   "outputs": [],
   "source": [
    "import pandas as pd\n",
    "import numpy as np\n",
    "import sox\n",
    "import librosa\n",
    "import os"
   ]
  },
  {
   "cell_type": "code",
   "execution_count": 5,
   "metadata": {
    "ExecuteTime": {
     "end_time": "2020-12-18T01:33:24.106300Z",
     "start_time": "2020-12-18T01:33:24.101955Z"
    }
   },
   "outputs": [],
   "source": [
    "def melspectrogram( data, n_fft = 1024, hop_length = 1024, win_length = 1024, sr = 44100, n_mels = 40 ):\n",
    "    S = librosa.stft(data, n_fft=n_fft, hop_length=hop_length, win_length=win_length)\n",
    "    mel_basis = librosa.filters.mel(sr, n_fft=n_fft, n_mels=n_mels)\n",
    "    mel_S = mel_basis @ np.abs(S)\n",
    "    mel_S = 10 * np.log10( mel_S + np.finfo(np.float32).eps) \n",
    "    \n",
    "    return mel_S"
   ]
  },
  {
   "cell_type": "code",
   "execution_count": 6,
   "metadata": {
    "ExecuteTime": {
     "end_time": "2020-12-18T01:33:24.933756Z",
     "start_time": "2020-12-18T01:33:24.927991Z"
    }
   },
   "outputs": [],
   "source": [
    "local_dataset = pd.read_csv(\"45s_Labels/static_annotations.csv\")"
   ]
  },
  {
   "cell_type": "code",
   "execution_count": 7,
   "metadata": {
    "ExecuteTime": {
     "end_time": "2020-12-18T01:34:37.401027Z",
     "start_time": "2020-12-18T01:33:25.592141Z"
    }
   },
   "outputs": [],
   "source": [
    "converter = sox.Transformer()\n",
    "\n",
    "labels = []\n",
    "melspectrograms = []\n",
    "\n",
    "for filename in os.listdir(\"45s_mp3\"):\n",
    "    if filename.endswith(\".mp3\"):\n",
    "        sid = int( filename[:-4])\n",
    "        try: \n",
    "            valence = local_dataset.loc[local_dataset['song_id'] == sid]['mean_valence'].values[0]\n",
    "            arousal = local_dataset.loc[local_dataset['song_id'] == sid]['mean_arousal'].values[0]\n",
    "            labels.append( (valence, arousal) )\n",
    "            \n",
    "            audio_data = np.float32( converter.build_array( input_filepath = '45s_mp3/' + filename ) )\n",
    "            mel_spec = melspectrogram( data = audio_data )\n",
    "            if mel_spec.shape[1] < 1292:\n",
    "                to_pad = 1292 - mel_spec.shape[1]\n",
    "                mel_spec = np.append( mel_spec , np.zeros( (40, to_pad ) ), axis = 1 )\n",
    "            else:\n",
    "                mel_spec = mel_spec[: , :1292]\n",
    "            \n",
    "            mel_spec = mel_spec.T\n",
    "            melspectrograms.append( mel_spec )\n",
    "            \n",
    "        except:\n",
    "            pass\n"
   ]
  },
  {
   "cell_type": "code",
   "execution_count": 8,
   "metadata": {
    "ExecuteTime": {
     "end_time": "2020-12-18T01:34:40.853507Z",
     "start_time": "2020-12-18T01:34:40.842068Z"
    }
   },
   "outputs": [
    {
     "data": {
      "text/plain": [
       "744"
      ]
     },
     "execution_count": 8,
     "metadata": {},
     "output_type": "execute_result"
    }
   ],
   "source": [
    "len(melspectrograms)"
   ]
  },
  {
   "cell_type": "code",
   "execution_count": 9,
   "metadata": {
    "ExecuteTime": {
     "end_time": "2020-12-18T01:34:44.348008Z",
     "start_time": "2020-12-18T01:34:44.344032Z"
    }
   },
   "outputs": [
    {
     "data": {
      "text/plain": [
       "744"
      ]
     },
     "execution_count": 9,
     "metadata": {},
     "output_type": "execute_result"
    }
   ],
   "source": [
    "len(labels)"
   ]
  },
  {
   "cell_type": "code",
   "execution_count": 10,
   "metadata": {
    "ExecuteTime": {
     "end_time": "2020-12-18T01:34:55.672990Z",
     "start_time": "2020-12-18T01:34:55.453297Z"
    }
   },
   "outputs": [],
   "source": [
    "import h5py\n",
    "\n",
    "hf = h5py.File('MER_Dataset_45s.h5', 'w')\n",
    "\n",
    "hf.create_dataset('X', data = np.array(melspectrograms) )\n",
    "hf.create_dataset('Y', data = np.array(labels) )\n",
    "\n",
    "hf.close()"
   ]
  }
 ],
 "metadata": {
  "kernelspec": {
   "display_name": "Python 3",
   "language": "python",
   "name": "python3"
  },
  "language_info": {
   "codemirror_mode": {
    "name": "ipython",
    "version": 3
   },
   "file_extension": ".py",
   "mimetype": "text/x-python",
   "name": "python",
   "nbconvert_exporter": "python",
   "pygments_lexer": "ipython3",
   "version": "3.7.6"
  },
  "toc": {
   "base_numbering": 1,
   "nav_menu": {},
   "number_sections": true,
   "sideBar": true,
   "skip_h1_title": false,
   "title_cell": "Table of Contents",
   "title_sidebar": "Contents",
   "toc_cell": false,
   "toc_position": {},
   "toc_section_display": true,
   "toc_window_display": false
  },
  "varInspector": {
   "cols": {
    "lenName": 16,
    "lenType": 16,
    "lenVar": 40
   },
   "kernels_config": {
    "python": {
     "delete_cmd_postfix": "",
     "delete_cmd_prefix": "del ",
     "library": "var_list.py",
     "varRefreshCmd": "print(var_dic_list())"
    },
    "r": {
     "delete_cmd_postfix": ") ",
     "delete_cmd_prefix": "rm(",
     "library": "var_list.r",
     "varRefreshCmd": "cat(var_dic_list()) "
    }
   },
   "types_to_exclude": [
    "module",
    "function",
    "builtin_function_or_method",
    "instance",
    "_Feature"
   ],
   "window_display": false
  }
 },
 "nbformat": 4,
 "nbformat_minor": 4
}
