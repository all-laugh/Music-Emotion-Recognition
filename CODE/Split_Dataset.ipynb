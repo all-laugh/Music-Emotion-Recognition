{
 "cells": [
  {
   "cell_type": "code",
   "execution_count": 1,
   "metadata": {
    "ExecuteTime": {
     "end_time": "2020-12-18T02:59:53.010129Z",
     "start_time": "2020-12-18T02:59:52.677675Z"
    }
   },
   "outputs": [],
   "source": [
    "import numpy as np\n",
    "import h5py"
   ]
  },
  {
   "cell_type": "code",
   "execution_count": 2,
   "metadata": {
    "ExecuteTime": {
     "end_time": "2020-12-18T03:00:04.702115Z",
     "start_time": "2020-12-18T02:59:53.012399Z"
    }
   },
   "outputs": [],
   "source": [
    "X_30s = np.array( h5py.File('MER_Dataset.h5', 'r')['X'] )\n",
    "Y_30s = np.array( h5py.File('MER_Dataset.h5', 'r')['Y'] )\n",
    "\n",
    "X_45s = np.array( h5py.File('MER_Dataset_45s.h5', 'r')['X'] )\n",
    "Y_45s = np.array( h5py.File('MER_Dataset_45s.h5', 'r')['Y'] )"
   ]
  },
  {
   "cell_type": "code",
   "execution_count": 3,
   "metadata": {
    "ExecuteTime": {
     "end_time": "2020-12-18T03:00:10.522637Z",
     "start_time": "2020-12-18T03:00:04.704361Z"
    }
   },
   "outputs": [],
   "source": [
    "X_30s = np.array([ x.T for x in X_30s[:]])"
   ]
  },
  {
   "cell_type": "code",
   "execution_count": 4,
   "metadata": {
    "ExecuteTime": {
     "end_time": "2020-12-18T03:00:10.534315Z",
     "start_time": "2020-12-18T03:00:10.524550Z"
    }
   },
   "outputs": [
    {
     "data": {
      "text/plain": [
       "(14317, 1292, 40)"
      ]
     },
     "execution_count": 4,
     "metadata": {},
     "output_type": "execute_result"
    }
   ],
   "source": [
    "X_30s.shape"
   ]
  },
  {
   "cell_type": "code",
   "execution_count": 5,
   "metadata": {
    "ExecuteTime": {
     "end_time": "2020-12-18T03:00:10.539347Z",
     "start_time": "2020-12-18T03:00:10.536184Z"
    }
   },
   "outputs": [
    {
     "data": {
      "text/plain": [
       "(744, 1292, 40)"
      ]
     },
     "execution_count": 5,
     "metadata": {},
     "output_type": "execute_result"
    }
   ],
   "source": [
    "X_45s.shape"
   ]
  },
  {
   "cell_type": "code",
   "execution_count": 6,
   "metadata": {
    "ExecuteTime": {
     "end_time": "2020-12-18T03:00:10.544140Z",
     "start_time": "2020-12-18T03:00:10.540795Z"
    }
   },
   "outputs": [],
   "source": [
    "Y_30s = Y_30s / np.max( np.abs(Y_30s) )\n",
    "Y_45s = Y_45s / np.max( np.abs(Y_45s) )"
   ]
  },
  {
   "cell_type": "code",
   "execution_count": 7,
   "metadata": {
    "ExecuteTime": {
     "end_time": "2020-12-18T03:00:14.105727Z",
     "start_time": "2020-12-18T03:00:10.547334Z"
    }
   },
   "outputs": [],
   "source": [
    "X = np.append( X_30s, X_45s, axis = 0 )\n",
    "Y = np.append( Y_30s, Y_45s, axis = 0 )"
   ]
  },
  {
   "cell_type": "code",
   "execution_count": 8,
   "metadata": {
    "ExecuteTime": {
     "end_time": "2020-12-18T03:00:14.111959Z",
     "start_time": "2020-12-18T03:00:14.108709Z"
    }
   },
   "outputs": [
    {
     "data": {
      "text/plain": [
       "(15061, 1292, 40)"
      ]
     },
     "execution_count": 8,
     "metadata": {},
     "output_type": "execute_result"
    }
   ],
   "source": [
    "X.shape"
   ]
  },
  {
   "cell_type": "code",
   "execution_count": 9,
   "metadata": {
    "ExecuteTime": {
     "end_time": "2020-12-18T03:00:14.116849Z",
     "start_time": "2020-12-18T03:00:14.113615Z"
    }
   },
   "outputs": [
    {
     "data": {
      "text/plain": [
       "(15061, 2)"
      ]
     },
     "execution_count": 9,
     "metadata": {},
     "output_type": "execute_result"
    }
   ],
   "source": [
    "Y.shape"
   ]
  },
  {
   "cell_type": "code",
   "execution_count": 10,
   "metadata": {
    "ExecuteTime": {
     "end_time": "2020-12-18T03:00:14.748772Z",
     "start_time": "2020-12-18T03:00:14.118431Z"
    }
   },
   "outputs": [],
   "source": [
    "from sklearn.utils import shuffle\n",
    "from sklearn.model_selection import train_test_split"
   ]
  },
  {
   "cell_type": "code",
   "execution_count": 11,
   "metadata": {
    "ExecuteTime": {
     "end_time": "2020-12-18T03:00:20.823572Z",
     "start_time": "2020-12-18T03:00:14.750581Z"
    }
   },
   "outputs": [],
   "source": [
    "X, Y = shuffle(X, Y, random_state=0)"
   ]
  },
  {
   "cell_type": "code",
   "execution_count": 12,
   "metadata": {
    "ExecuteTime": {
     "end_time": "2020-12-18T03:00:23.951947Z",
     "start_time": "2020-12-18T03:00:20.825413Z"
    }
   },
   "outputs": [],
   "source": [
    "X_train, X_test, Y_train, Y_test = train_test_split( X, Y, test_size=0.20, random_state = 1 )"
   ]
  },
  {
   "cell_type": "code",
   "execution_count": 13,
   "metadata": {
    "ExecuteTime": {
     "end_time": "2020-12-18T03:00:44.154907Z",
     "start_time": "2020-12-18T03:00:23.954054Z"
    }
   },
   "outputs": [],
   "source": [
    "hf = h5py.File('MER_Dataset_FULL.h5', 'w')\n",
    "\n",
    "hf.create_dataset('X_train', data = np.array(X_train) )\n",
    "hf.create_dataset('X_test', data = np.array(X_test) )\n",
    "hf.create_dataset('Y_train', data = np.array(Y_train) )\n",
    "hf.create_dataset('Y_test', data = np.array(Y_test) )\n",
    "\n",
    "hf.close()"
   ]
  },
  {
   "cell_type": "code",
   "execution_count": null,
   "metadata": {},
   "outputs": [],
   "source": []
  }
 ],
 "metadata": {
  "kernelspec": {
   "display_name": "Python 3",
   "language": "python",
   "name": "python3"
  },
  "language_info": {
   "codemirror_mode": {
    "name": "ipython",
    "version": 3
   },
   "file_extension": ".py",
   "mimetype": "text/x-python",
   "name": "python",
   "nbconvert_exporter": "python",
   "pygments_lexer": "ipython3",
   "version": "3.7.6"
  },
  "toc": {
   "base_numbering": 1,
   "nav_menu": {},
   "number_sections": true,
   "sideBar": true,
   "skip_h1_title": false,
   "title_cell": "Table of Contents",
   "title_sidebar": "Contents",
   "toc_cell": false,
   "toc_position": {},
   "toc_section_display": true,
   "toc_window_display": false
  },
  "varInspector": {
   "cols": {
    "lenName": 16,
    "lenType": 16,
    "lenVar": 40
   },
   "kernels_config": {
    "python": {
     "delete_cmd_postfix": "",
     "delete_cmd_prefix": "del ",
     "library": "var_list.py",
     "varRefreshCmd": "print(var_dic_list())"
    },
    "r": {
     "delete_cmd_postfix": ") ",
     "delete_cmd_prefix": "rm(",
     "library": "var_list.r",
     "varRefreshCmd": "cat(var_dic_list()) "
    }
   },
   "types_to_exclude": [
    "module",
    "function",
    "builtin_function_or_method",
    "instance",
    "_Feature"
   ],
   "window_display": false
  }
 },
 "nbformat": 4,
 "nbformat_minor": 4
}
